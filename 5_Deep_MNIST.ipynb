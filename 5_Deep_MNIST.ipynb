{
 "cells": [
  {
   "cell_type": "code",
   "execution_count": 1,
   "metadata": {
    "collapsed": false
   },
   "outputs": [
    {
     "name": "stdout",
     "output_type": "stream",
     "text": [
      "Extracting MNIST_data/train-images-idx3-ubyte.gz\n",
      "Extracting MNIST_data/train-labels-idx1-ubyte.gz\n",
      "Extracting MNIST_data/t10k-images-idx3-ubyte.gz\n",
      "Extracting MNIST_data/t10k-labels-idx1-ubyte.gz\n"
     ]
    }
   ],
   "source": [
    "from tensorflow.examples.tutorials.mnist import input_data\n",
    "mnist = input_data.read_data_sets('MNIST_data', one_hot=True)"
   ]
  },
  {
   "cell_type": "code",
   "execution_count": 2,
   "metadata": {
    "collapsed": true
   },
   "outputs": [],
   "source": [
    "import tensorflow as tf"
   ]
  },
  {
   "cell_type": "code",
   "execution_count": 3,
   "metadata": {
    "collapsed": true
   },
   "outputs": [],
   "source": [
    "sess = tf.InteractiveSession()"
   ]
  },
  {
   "cell_type": "code",
   "execution_count": 4,
   "metadata": {
    "collapsed": true
   },
   "outputs": [],
   "source": [
    "x = tf.placeholder(tf.float32, shape=[None, 784])\n",
    "y_ = tf.placeholder(tf.float32, shape=[None, 10])"
   ]
  },
  {
   "cell_type": "code",
   "execution_count": 6,
   "metadata": {
    "collapsed": true
   },
   "outputs": [],
   "source": [
    "#weights and biases\n",
    "W = tf.Variable(tf.zeros([784,10]))\n",
    "b = tf.Variable(tf.zeros([10]))"
   ]
  },
  {
   "cell_type": "code",
   "execution_count": 7,
   "metadata": {
    "collapsed": true
   },
   "outputs": [],
   "source": [
    "sess.run(tf.global_variables_initializer())"
   ]
  },
  {
   "cell_type": "code",
   "execution_count": 8,
   "metadata": {
    "collapsed": true
   },
   "outputs": [],
   "source": [
    "#predicted value\n",
    "y = tf.matmul(x,W)+b\n",
    "cross_entropy = tf.reduce_mean(tf.nn.softmax_cross_entropy_with_logits(labels=y_, logits = y))"
   ]
  },
  {
   "cell_type": "code",
   "execution_count": 9,
   "metadata": {
    "collapsed": true
   },
   "outputs": [],
   "source": [
    "#train model\n",
    "train_step = tf.train.GradientDescentOptimizer(0.5).minimize(cross_entropy)\n",
    "for i in range(1000):\n",
    "    batch = mnist.train.next_batch(100)\n",
    "    train_step.run(feed_dict={x:batch[0], y_:batch[1]})"
   ]
  },
  {
   "cell_type": "code",
   "execution_count": 10,
   "metadata": {
    "collapsed": false
   },
   "outputs": [
    {
     "name": "stdout",
     "output_type": "stream",
     "text": [
      "0.9185\n"
     ]
    }
   ],
   "source": [
    "#Evaluation\n",
    "correct_prediction = tf.equal(tf.argmax(y,1), tf.argmax(y_,1))\n",
    "accuracy = tf.reduce_mean(tf.cast(correct_prediction, tf.float32))\n",
    "print(accuracy.eval(feed_dict={x: mnist.test.images, y_: mnist.test.labels}))"
   ]
  },
  {
   "cell_type": "markdown",
   "metadata": {},
   "source": [
    "##  Build a Multilayer convolutional network"
   ]
  },
  {
   "cell_type": "markdown",
   "metadata": {},
   "source": [
    "### ReLU neurons\n",
    "$$ f(x) = max(0,x)$$\n",
    "$$ f(x) = ln(1+e^x)$$"
   ]
  },
  {
   "cell_type": "markdown",
   "metadata": {},
   "source": [
    "### Weight Initialization"
   ]
  },
  {
   "cell_type": "code",
   "execution_count": 11,
   "metadata": {
    "collapsed": true
   },
   "outputs": [],
   "source": [
    "def weight_variable(shape):\n",
    "    initial = tf.truncated_normal(shape, stddev = 0.1)\n",
    "    return tf.Variable(initial)"
   ]
  },
  {
   "cell_type": "code",
   "execution_count": 12,
   "metadata": {
    "collapsed": true
   },
   "outputs": [],
   "source": [
    "def bias_variable(shape):\n",
    "    initial = tf.constant(0.1, shape = shape)\n",
    "    return tf.Variable(initial)"
   ]
  },
  {
   "cell_type": "markdown",
   "metadata": {},
   "source": [
    "### Convolution and Pooling "
   ]
  },
  {
   "cell_type": "markdown",
   "metadata": {},
   "source": [
    "##### vanilla version: stride of 1 and 0 padded (output is the same size as input)"
   ]
  },
  {
   "cell_type": "code",
   "execution_count": 23,
   "metadata": {
    "collapsed": true
   },
   "outputs": [],
   "source": [
    "def conv2d(x, W):\n",
    "    return tf.nn.conv2d(x, W, strides = [1,1,1,1], padding='SAME')"
   ]
  },
  {
   "cell_type": "code",
   "execution_count": 24,
   "metadata": {
    "collapsed": true
   },
   "outputs": [],
   "source": [
    "def max_pool_2x2(x):\n",
    "    return tf.nn.max_pool(x, ksize=[1,2,2,1], strides=[1,2,2,1], padding='SAME')"
   ]
  },
  {
   "cell_type": "code",
   "execution_count": 25,
   "metadata": {
    "collapsed": true
   },
   "outputs": [],
   "source": [
    "#lets see it in tensorboard\n",
    "writer = tf.summary.FileWriter('/home/abhijit/Desktop/abhi/logs', graph=tf.get_default_graph())"
   ]
  },
  {
   "cell_type": "markdown",
   "metadata": {},
   "source": [
    "### First convolution layer"
   ]
  },
  {
   "cell_type": "markdown",
   "metadata": {},
   "source": [
    "##### Convolution followed by max pooling. The covoluion will compute 32 features for each 5x5 patch. Its weight ensor will have a shape of [5,5,1,32]. The 5x5 is the patch size, 1 is the number of input channels, and 32 is the number of output channel"
   ]
  },
  {
   "cell_type": "code",
   "execution_count": 26,
   "metadata": {
    "collapsed": true
   },
   "outputs": [],
   "source": [
    "W_conv1 = weight_variable([5,5,1,32])\n",
    "b_conv1 = bias_variable([32])"
   ]
  },
  {
   "cell_type": "markdown",
   "metadata": {},
   "source": [
    "##### For applying the layer, first reshape x to a 4d tensorm with the second and third dimensions corresponding to image width and height, and final dimension corresponding to number of color channers "
   ]
  },
  {
   "cell_type": "code",
   "execution_count": 27,
   "metadata": {
    "collapsed": true
   },
   "outputs": [],
   "source": [
    "x_image = tf.reshape(x, [-1, 28, 28, 1])"
   ]
  },
  {
   "cell_type": "markdown",
   "metadata": {},
   "source": [
    "##### convolve x_image with the weight tensor, add the bias, apply the ReLU and finally max pool. The max_pool_2x2 will reduce the image size to 14x14 "
   ]
  },
  {
   "cell_type": "code",
   "execution_count": 28,
   "metadata": {
    "collapsed": true
   },
   "outputs": [],
   "source": [
    "h_conv1 = tf.nn.relu(conv2d(x_image, W_conv1)+b_conv1)\n",
    "h_pool1 = max_pool_2x2(h_conv1)"
   ]
  },
  {
   "cell_type": "markdown",
   "metadata": {},
   "source": [
    "### Second Convolution Layer"
   ]
  },
  {
   "cell_type": "code",
   "execution_count": 29,
   "metadata": {
    "collapsed": true
   },
   "outputs": [],
   "source": [
    "W_conv2 = weight_variable([5,5,32,64])\n",
    "b_conv2 = bias_variable([64])\n",
    "h_conv2 = tf.nn.relu(conv2d(h_pool1, W_conv2)+b_conv2)\n",
    "h_pool2 = max_pool_2x2(h_conv2)"
   ]
  },
  {
   "cell_type": "markdown",
   "metadata": {},
   "source": [
    "### Densely Connected Layer"
   ]
  },
  {
   "cell_type": "markdown",
   "metadata": {},
   "source": [
    "##### Now as the image size has been reduced to 7x7, add a fully-connected layer with 1024 neurons to allow processing of entire image. Reshape the tensor from pooling layer into a batch of vectors, multiply by a weight matrix, add a bias, and apply ReLU "
   ]
  },
  {
   "cell_type": "code",
   "execution_count": 30,
   "metadata": {
    "collapsed": true
   },
   "outputs": [],
   "source": [
    "W_fc1 = weight_variable([7*7*64, 1024])\n",
    "b_fc1 = bias_variable([1024])\n",
    "h_pool2_flat = tf.reshape(h_pool2, [-1, 7*7*64])\n",
    "h_fc1 = tf.nn.relu(tf.matmul(h_pool2_flat, W_fc1)+b_fc1)"
   ]
  },
  {
   "cell_type": "markdown",
   "metadata": {},
   "source": [
    "### Dropout "
   ]
  },
  {
   "cell_type": "markdown",
   "metadata": {},
   "source": [
    "##### Placeholder for the probability that a neuron's output is kept duing dropout, This allows to turn dropout on during training, and turn it off during testing. "
   ]
  },
  {
   "cell_type": "code",
   "execution_count": 31,
   "metadata": {
    "collapsed": true
   },
   "outputs": [],
   "source": [
    "keep_prob = tf.placeholder(tf.float32)\n",
    "h_fc1_drop = tf.nn.dropout(h_fc1, keep_prob)"
   ]
  },
  {
   "cell_type": "markdown",
   "metadata": {},
   "source": [
    "### Readout layer"
   ]
  },
  {
   "cell_type": "code",
   "execution_count": 32,
   "metadata": {
    "collapsed": true
   },
   "outputs": [],
   "source": [
    "W_fc2 = weight_variable([1024,10])\n",
    "b_fc2 = bias_variable([10])"
   ]
  },
  {
   "cell_type": "code",
   "execution_count": 33,
   "metadata": {
    "collapsed": true
   },
   "outputs": [],
   "source": [
    "y_conv = tf.matmul(h_fc1_drop, W_fc2)+b_fc2"
   ]
  },
  {
   "cell_type": "markdown",
   "metadata": {},
   "source": [
    "### Training and Evaluation "
   ]
  },
  {
   "cell_type": "code",
   "execution_count": 34,
   "metadata": {
    "collapsed": false
   },
   "outputs": [
    {
     "name": "stdout",
     "output_type": "stream",
     "text": [
      "step 0, training acuracy 0.14\n",
      "step 100, training acuracy 0.82\n",
      "step 200, training acuracy 0.84\n",
      "step 300, training acuracy 0.86\n",
      "step 400, training acuracy 0.9\n",
      "step 500, training acuracy 1\n",
      "step 600, training acuracy 0.92\n",
      "step 700, training acuracy 0.98\n",
      "step 800, training acuracy 0.94\n",
      "step 900, training acuracy 0.98\n",
      "step 1000, training acuracy 0.96\n",
      "step 1100, training acuracy 1\n",
      "step 1200, training acuracy 1\n",
      "step 1300, training acuracy 0.94\n",
      "step 1400, training acuracy 1\n",
      "step 1500, training acuracy 1\n",
      "step 1600, training acuracy 0.94\n",
      "step 1700, training acuracy 0.98\n",
      "step 1800, training acuracy 1\n",
      "step 1900, training acuracy 1\n",
      "step 2000, training acuracy 0.98\n",
      "step 2100, training acuracy 1\n",
      "step 2200, training acuracy 1\n",
      "step 2300, training acuracy 0.98\n",
      "step 2400, training acuracy 0.96\n",
      "step 2500, training acuracy 1\n",
      "step 2600, training acuracy 0.96\n",
      "step 2700, training acuracy 1\n",
      "step 2800, training acuracy 0.98\n",
      "step 2900, training acuracy 0.98\n",
      "step 3000, training acuracy 1\n",
      "step 3100, training acuracy 0.98\n",
      "step 3200, training acuracy 0.98\n",
      "step 3300, training acuracy 0.94\n",
      "step 3400, training acuracy 1\n",
      "step 3500, training acuracy 1\n",
      "step 3600, training acuracy 1\n",
      "step 3700, training acuracy 0.96\n",
      "step 3800, training acuracy 0.98\n",
      "step 3900, training acuracy 0.98\n",
      "step 4000, training acuracy 0.94\n",
      "step 4100, training acuracy 1\n",
      "step 4200, training acuracy 0.98\n",
      "step 4300, training acuracy 1\n",
      "step 4400, training acuracy 0.98\n",
      "step 4500, training acuracy 0.98\n",
      "step 4600, training acuracy 0.98\n",
      "step 4700, training acuracy 1\n",
      "step 4800, training acuracy 1\n",
      "step 4900, training acuracy 1\n",
      "step 5000, training acuracy 1\n",
      "step 5100, training acuracy 0.96\n",
      "step 5200, training acuracy 0.98\n",
      "step 5300, training acuracy 0.98\n",
      "step 5400, training acuracy 1\n",
      "step 5500, training acuracy 0.98\n",
      "step 5600, training acuracy 1\n",
      "step 5700, training acuracy 1\n",
      "step 5800, training acuracy 0.98\n",
      "step 5900, training acuracy 1\n",
      "step 6000, training acuracy 1\n",
      "step 6100, training acuracy 1\n",
      "step 6200, training acuracy 0.96\n",
      "step 6300, training acuracy 1\n",
      "step 6400, training acuracy 1\n",
      "step 6500, training acuracy 1\n",
      "step 6600, training acuracy 0.98\n",
      "step 6700, training acuracy 1\n",
      "step 6800, training acuracy 1\n",
      "step 6900, training acuracy 0.98\n",
      "step 7000, training acuracy 1\n",
      "step 7100, training acuracy 0.98\n",
      "step 7200, training acuracy 0.98\n",
      "step 7300, training acuracy 1\n",
      "step 7400, training acuracy 0.98\n",
      "step 7500, training acuracy 0.96\n",
      "step 7600, training acuracy 0.98\n",
      "step 7700, training acuracy 1\n",
      "step 7800, training acuracy 1\n",
      "step 7900, training acuracy 0.98\n",
      "step 8000, training acuracy 1\n",
      "step 8100, training acuracy 1\n",
      "step 8200, training acuracy 1\n",
      "step 8300, training acuracy 0.98\n",
      "step 8400, training acuracy 1\n",
      "step 8500, training acuracy 1\n",
      "step 8600, training acuracy 1\n",
      "step 8700, training acuracy 1\n",
      "step 8800, training acuracy 1\n",
      "step 8900, training acuracy 0.98\n",
      "step 9000, training acuracy 1\n",
      "step 9100, training acuracy 1\n",
      "step 9200, training acuracy 1\n",
      "step 9300, training acuracy 1\n",
      "step 9400, training acuracy 1\n",
      "step 9500, training acuracy 0.98\n",
      "step 9600, training acuracy 1\n",
      "step 9700, training acuracy 1\n",
      "step 9800, training acuracy 1\n",
      "step 9900, training acuracy 1\n",
      "step 10000, training acuracy 1\n",
      "step 10100, training acuracy 1\n",
      "step 10200, training acuracy 1\n",
      "step 10300, training acuracy 1\n",
      "step 10400, training acuracy 1\n",
      "step 10500, training acuracy 1\n",
      "step 10600, training acuracy 0.98\n",
      "step 10700, training acuracy 1\n",
      "step 10800, training acuracy 1\n",
      "step 10900, training acuracy 1\n",
      "step 11000, training acuracy 1\n",
      "step 11100, training acuracy 1\n",
      "step 11200, training acuracy 0.98\n",
      "step 11300, training acuracy 1\n",
      "step 11400, training acuracy 1\n",
      "step 11500, training acuracy 1\n",
      "step 11600, training acuracy 1\n",
      "step 11700, training acuracy 0.98\n",
      "step 11800, training acuracy 1\n",
      "step 11900, training acuracy 1\n",
      "step 12000, training acuracy 1\n",
      "step 12100, training acuracy 1\n",
      "step 12200, training acuracy 1\n",
      "step 12300, training acuracy 0.98\n",
      "step 12400, training acuracy 1\n",
      "step 12500, training acuracy 1\n",
      "step 12600, training acuracy 1\n",
      "step 12700, training acuracy 1\n",
      "step 12800, training acuracy 1\n",
      "step 12900, training acuracy 1\n",
      "step 13000, training acuracy 1\n",
      "step 13100, training acuracy 1\n",
      "step 13200, training acuracy 1\n",
      "step 13300, training acuracy 1\n",
      "step 13400, training acuracy 1\n",
      "step 13500, training acuracy 1\n",
      "step 13600, training acuracy 1\n",
      "step 13700, training acuracy 1\n",
      "step 13800, training acuracy 1\n",
      "step 13900, training acuracy 1\n",
      "step 14000, training acuracy 1\n",
      "step 14100, training acuracy 0.98\n",
      "step 14200, training acuracy 1\n",
      "step 14300, training acuracy 1\n",
      "step 14400, training acuracy 1\n",
      "step 14500, training acuracy 1\n",
      "step 14600, training acuracy 0.98\n",
      "step 14700, training acuracy 1\n",
      "step 14800, training acuracy 1\n",
      "step 14900, training acuracy 1\n",
      "step 15000, training acuracy 0.98\n",
      "step 15100, training acuracy 1\n",
      "step 15200, training acuracy 1\n",
      "step 15300, training acuracy 1\n",
      "step 15400, training acuracy 1\n",
      "step 15500, training acuracy 1\n",
      "step 15600, training acuracy 0.98\n",
      "step 15700, training acuracy 1\n",
      "step 15800, training acuracy 1\n",
      "step 15900, training acuracy 1\n",
      "step 16000, training acuracy 1\n",
      "step 16100, training acuracy 1\n",
      "step 16200, training acuracy 1\n",
      "step 16300, training acuracy 0.98\n",
      "step 16400, training acuracy 1\n",
      "step 16500, training acuracy 1\n",
      "step 16600, training acuracy 1\n",
      "step 16700, training acuracy 1\n",
      "step 16800, training acuracy 1\n",
      "step 16900, training acuracy 1\n",
      "step 17000, training acuracy 1\n",
      "step 17100, training acuracy 1\n",
      "step 17200, training acuracy 1\n",
      "step 17300, training acuracy 1\n",
      "step 17400, training acuracy 1\n",
      "step 17500, training acuracy 1\n",
      "step 17600, training acuracy 1\n",
      "step 17700, training acuracy 1\n",
      "step 17800, training acuracy 1\n",
      "step 17900, training acuracy 1\n",
      "step 18000, training acuracy 1\n",
      "step 18100, training acuracy 1\n",
      "step 18200, training acuracy 1\n",
      "step 18300, training acuracy 1\n",
      "step 18400, training acuracy 1\n",
      "step 18500, training acuracy 1\n",
      "step 18600, training acuracy 1\n",
      "step 18700, training acuracy 1\n",
      "step 18800, training acuracy 1\n",
      "step 18900, training acuracy 1\n",
      "step 19000, training acuracy 1\n",
      "step 19100, training acuracy 1\n",
      "step 19200, training acuracy 1\n",
      "step 19300, training acuracy 1\n",
      "step 19400, training acuracy 1\n",
      "step 19500, training acuracy 0.98\n",
      "step 19600, training acuracy 1\n",
      "step 19700, training acuracy 1\n",
      "step 19800, training acuracy 1\n",
      "step 19900, training acuracy 1\n",
      "test accuracy 0.9925\n"
     ]
    }
   ],
   "source": [
    "cross_entropy = tf.reduce_mean(tf.nn.softmax_cross_entropy_with_logits(labels = y_, logits=y_conv))\n",
    "train_step = tf.train.AdamOptimizer(1e-4).minimize(cross_entropy)\n",
    "correct_prediction = tf.equal(tf.argmax(y_conv,1), tf.argmax(y_,1))\n",
    "accuracy = tf.reduce_mean(tf.cast(correct_prediction, tf.float32))\n",
    "sess.run(tf.global_variables_initializer())\n",
    "\n",
    "\n",
    "for i in range(20000):\n",
    "    batch = mnist.train.next_batch(50)\n",
    "    if(i%100 == 0):\n",
    "        train_accuracy = accuracy.eval(feed_dict={x:batch[0], y_: batch[1], keep_prob: 1.0})\n",
    "        print(\"step %d, training acuracy %g\"%(i, train_accuracy))\n",
    "    train_step.run(feed_dict={x:batch[0], y_:batch[1], keep_prob: 0.5})\n",
    "\n",
    "print(\"test accuracy %g\"%accuracy.eval(feed_dict={x:mnist.test.images, y_:mnist.test.labels, keep_prob: 1.0}))"
   ]
  }
 ],
 "metadata": {
  "kernelspec": {
   "display_name": "Python 2",
   "language": "python",
   "name": "python2"
  },
  "language_info": {
   "codemirror_mode": {
    "name": "ipython",
    "version": 2
   },
   "file_extension": ".py",
   "mimetype": "text/x-python",
   "name": "python",
   "nbconvert_exporter": "python",
   "pygments_lexer": "ipython2",
   "version": "2.7.13"
  }
 },
 "nbformat": 4,
 "nbformat_minor": 2
}
